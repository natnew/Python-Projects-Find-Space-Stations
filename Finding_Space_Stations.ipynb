{
  "nbformat": 4,
  "nbformat_minor": 0,
  "metadata": {
    "colab": {
      "name": "Finding Space Stations.ipynb",
      "provenance": [],
      "authorship_tag": "ABX9TyPvObADx5K4tBvw3BGwbTjn",
      "include_colab_link": true
    },
    "kernelspec": {
      "name": "python3",
      "display_name": "Python 3"
    },
    "language_info": {
      "name": "python"
    }
  },
  "cells": [
    {
      "cell_type": "markdown",
      "metadata": {
        "id": "view-in-github",
        "colab_type": "text"
      },
      "source": [
        "<a href=\"https://colab.research.google.com/github/natnew/Python-Projects-Find-Space-Stations/blob/main/Finding_Space_Stations.ipynb\" target=\"_parent\"><img src=\"https://colab.research.google.com/assets/colab-badge.svg\" alt=\"Open In Colab\"/></a>"
      ]
    },
    {
      "cell_type": "code",
      "metadata": {
        "id": "soaNsC_Y95bL"
      },
      "source": [
        "\n",
        "import json\n",
        "import turtle\n",
        "import urllib.request"
      ],
      "execution_count": 1,
      "outputs": []
    },
    {
      "cell_type": "markdown",
      "metadata": {
        "id": "VZiGoEaR-eCV"
      },
      "source": [
        "Get access to the web service, call the web service, load the JSON response into a Python data structure"
      ]
    },
    {
      "cell_type": "code",
      "metadata": {
        "id": "HYMi-3kv-YFC"
      },
      "source": [
        "# http://open-notify.org/Open-Notify-API/\n",
        "url = 'http://api.open-notify.org/astros.json'\n",
        "response = urllib.request.urlopen(url)\n",
        "result = json.loads(response.read())"
      ],
      "execution_count": 2,
      "outputs": []
    },
    {
      "cell_type": "code",
      "metadata": {
        "colab": {
          "base_uri": "https://localhost:8080/"
        },
        "id": "mYMFv30--pC3",
        "outputId": "5afae0a3-04ef-4978-9933-6918bc1ab0ca"
      },
      "source": [
        "print(result)"
      ],
      "execution_count": 3,
      "outputs": [
        {
          "output_type": "stream",
          "name": "stdout",
          "text": [
            "{'people': [{'craft': 'ISS', 'name': 'Mark Vande Hei'}, {'craft': 'ISS', 'name': 'Oleg Novitskiy'}, {'craft': 'ISS', 'name': 'Pyotr Dubrov'}, {'craft': 'ISS', 'name': 'Thomas Pesquet'}, {'craft': 'ISS', 'name': 'Megan McArthur'}, {'craft': 'ISS', 'name': 'Shane Kimbrough'}, {'craft': 'ISS', 'name': 'Akihiko Hoshide'}], 'number': 7, 'message': 'success'}\n"
          ]
        }
      ]
    },
    {
      "cell_type": "markdown",
      "metadata": {
        "id": "SxeUu90W-4OZ"
      },
      "source": [
        "Let's look at the number of people in space and print the result"
      ]
    },
    {
      "cell_type": "code",
      "metadata": {
        "colab": {
          "base_uri": "https://localhost:8080/"
        },
        "id": "0GnZLnCe-8gg",
        "outputId": "b5c1ee9b-a855-43d6-dd86-a3f4bea144e3"
      },
      "source": [
        "print('People in Space: ', result['number'])"
      ],
      "execution_count": 4,
      "outputs": [
        {
          "output_type": "stream",
          "name": "stdout",
          "text": [
            "People in Space:  7\n"
          ]
        }
      ]
    },
    {
      "cell_type": "markdown",
      "metadata": {
        "id": "1mGl3jzE_GsB"
      },
      "source": [
        "Put the value associated with people into a variable"
      ]
    },
    {
      "cell_type": "code",
      "metadata": {
        "colab": {
          "base_uri": "https://localhost:8080/"
        },
        "id": "cG7LM9Yd_MqN",
        "outputId": "4e152dca-5e32-4570-c356-94512481a61a"
      },
      "source": [
        "people = result['people']\n",
        "print(people)"
      ],
      "execution_count": 5,
      "outputs": [
        {
          "output_type": "stream",
          "name": "stdout",
          "text": [
            "[{'craft': 'ISS', 'name': 'Mark Vande Hei'}, {'craft': 'ISS', 'name': 'Oleg Novitskiy'}, {'craft': 'ISS', 'name': 'Pyotr Dubrov'}, {'craft': 'ISS', 'name': 'Thomas Pesquet'}, {'craft': 'ISS', 'name': 'Megan McArthur'}, {'craft': 'ISS', 'name': 'Shane Kimbrough'}, {'craft': 'ISS', 'name': 'Akihiko Hoshide'}]\n"
          ]
        }
      ]
    },
    {
      "cell_type": "markdown",
      "metadata": {
        "id": "QRpM4J_r_WVb"
      },
      "source": [
        "Print out a lin for each astronaut"
      ]
    },
    {
      "cell_type": "code",
      "metadata": {
        "colab": {
          "base_uri": "https://localhost:8080/"
        },
        "id": "l8WhNcJK_baG",
        "outputId": "952a21a1-e463-451e-d45c-da41a4d59ffc"
      },
      "source": [
        "for p in people:\n",
        "  print(p['name'], ' in ', p['craft'])"
      ],
      "execution_count": 6,
      "outputs": [
        {
          "output_type": "stream",
          "name": "stdout",
          "text": [
            "Mark Vande Hei  in  ISS\n",
            "Oleg Novitskiy  in  ISS\n",
            "Pyotr Dubrov  in  ISS\n",
            "Thomas Pesquet  in  ISS\n",
            "Megan McArthur  in  ISS\n",
            "Shane Kimbrough  in  ISS\n",
            "Akihiko Hoshide  in  ISS\n"
          ]
        }
      ]
    },
    {
      "cell_type": "markdown",
      "metadata": {
        "id": "it-6on1TALM4"
      },
      "source": [
        "# FIND the International Space Station"
      ]
    },
    {
      "cell_type": "markdown",
      "metadata": {
        "id": "wSb7rhGt_rnE"
      },
      "source": [
        "ISS stands for International Space Station"
      ]
    },
    {
      "cell_type": "markdown",
      "metadata": {
        "id": "ov77Y875_82Q"
      },
      "source": [
        "Find the coordinates of the spot on Earth that the ISS i currently over:  http://api.open-notify.org/iss-now.json"
      ]
    },
    {
      "cell_type": "code",
      "metadata": {
        "colab": {
          "base_uri": "https://localhost:8080/"
        },
        "id": "9m_o0j5SASxp",
        "outputId": "e1680e64-30c7-4a00-b014-78c867361426"
      },
      "source": [
        "url = 'http://api.open-notify.org/iss-now.json'\n",
        "response = urllib.request.urlopen(url)\n",
        "result = json.loads(response.read())\n",
        "\n",
        "location = result['iss_position']\n",
        "lat = float(location['latitude'])\n",
        "lon = float(location['longitude'])\n",
        "print('Latitude: ', lat)\n",
        "print('Longitude: ', lon)"
      ],
      "execution_count": 7,
      "outputs": [
        {
          "output_type": "stream",
          "name": "stdout",
          "text": [
            "Latitude:  -50.2566\n",
            "Longitude:  159.8394\n"
          ]
        }
      ]
    },
    {
      "cell_type": "markdown",
      "metadata": {
        "id": "Hcs702E2AlDP"
      },
      "source": [
        "When is the ISS overhead?"
      ]
    },
    {
      "cell_type": "code",
      "metadata": {
        "id": "wWhjjX_qA27r"
      },
      "source": [
        "# Space Center, Houston\n",
        "lat = 29.5502\n",
        "lon = -95.097"
      ],
      "execution_count": 11,
      "outputs": []
    },
    {
      "cell_type": "code",
      "metadata": {
        "id": "58IMSYdoAuSW"
      },
      "source": [
        "url = 'http://api.open-notify.org/iss-pass.json?lat=' + str(lat) + '&lon=' + str(lon)\n",
        "response = urllib.request.urlopen(url)\n",
        "result = json.loads(response.read())"
      ],
      "execution_count": 9,
      "outputs": []
    }
  ]
}